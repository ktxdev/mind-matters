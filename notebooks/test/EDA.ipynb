{
 "cells": [
  {
   "cell_type": "markdown",
   "id": "f6351ab2-6fe9-45bc-a8ef-9e7a821ddc15",
   "metadata": {},
   "source": [
    "## Import Libraries"
   ]
  },
  {
   "cell_type": "code",
   "execution_count": 3,
   "id": "initial_id",
   "metadata": {},
   "outputs": [],
   "source": [
    "import sys\n",
    "import numpy as np\n",
    "import pandas as pd\n",
    "import seaborn as sns\n",
    "import matplotlib.pyplot as plt\n",
    "\n",
    "sys.path.append('..')\n",
    "from utils.plot import *"
   ]
  },
  {
   "cell_type": "markdown",
   "id": "70cfb32f-b76c-4198-b498-6cf283127952",
   "metadata": {},
   "source": [
    "## Load the dataset"
   ]
  },
  {
   "cell_type": "code",
   "execution_count": 6,
   "id": "4d268d2f-eb44-4a20-8021-5f0cd771afda",
   "metadata": {},
   "outputs": [],
   "source": [
    "# Load testing data\n",
    "data = pd.read_csv('https://raw.githubusercontent.com/ktxdev/mind-matters/refs/heads/master/data/raw/test.csv')"
   ]
  },
  {
   "cell_type": "markdown",
   "id": "7de9e950-8d9d-4af8-92dd-bbd283ab782e",
   "metadata": {},
   "source": [
    "## Initial Exploration\n",
    "### Shape and Structure"
   ]
  },
  {
   "cell_type": "code",
   "execution_count": 7,
   "id": "8467c882-e2a3-4f1b-a09d-3a9169786d62",
   "metadata": {},
   "outputs": [
    {
     "name": "stdout",
     "output_type": "stream",
     "text": [
      "(93800, 19)\n"
     ]
    },
    {
     "data": {
      "text/html": [
       "<div>\n",
       "<style scoped>\n",
       "    .dataframe tbody tr th:only-of-type {\n",
       "        vertical-align: middle;\n",
       "    }\n",
       "\n",
       "    .dataframe tbody tr th {\n",
       "        vertical-align: top;\n",
       "    }\n",
       "\n",
       "    .dataframe thead th {\n",
       "        text-align: right;\n",
       "    }\n",
       "</style>\n",
       "<table border=\"1\" class=\"dataframe\">\n",
       "  <thead>\n",
       "    <tr style=\"text-align: right;\">\n",
       "      <th></th>\n",
       "      <th>id</th>\n",
       "      <th>Name</th>\n",
       "      <th>Gender</th>\n",
       "      <th>Age</th>\n",
       "      <th>City</th>\n",
       "      <th>Working Professional or Student</th>\n",
       "      <th>Profession</th>\n",
       "      <th>Academic Pressure</th>\n",
       "      <th>Work Pressure</th>\n",
       "      <th>CGPA</th>\n",
       "      <th>Study Satisfaction</th>\n",
       "      <th>Job Satisfaction</th>\n",
       "      <th>Sleep Duration</th>\n",
       "      <th>Dietary Habits</th>\n",
       "      <th>Degree</th>\n",
       "      <th>Have you ever had suicidal thoughts ?</th>\n",
       "      <th>Work/Study Hours</th>\n",
       "      <th>Financial Stress</th>\n",
       "      <th>Family History of Mental Illness</th>\n",
       "    </tr>\n",
       "  </thead>\n",
       "  <tbody>\n",
       "    <tr>\n",
       "      <th>0</th>\n",
       "      <td>140700</td>\n",
       "      <td>Shivam</td>\n",
       "      <td>Male</td>\n",
       "      <td>53.0</td>\n",
       "      <td>Visakhapatnam</td>\n",
       "      <td>Working Professional</td>\n",
       "      <td>Judge</td>\n",
       "      <td>NaN</td>\n",
       "      <td>2.0</td>\n",
       "      <td>NaN</td>\n",
       "      <td>NaN</td>\n",
       "      <td>5.0</td>\n",
       "      <td>Less than 5 hours</td>\n",
       "      <td>Moderate</td>\n",
       "      <td>LLB</td>\n",
       "      <td>No</td>\n",
       "      <td>9.0</td>\n",
       "      <td>3.0</td>\n",
       "      <td>Yes</td>\n",
       "    </tr>\n",
       "    <tr>\n",
       "      <th>1</th>\n",
       "      <td>140701</td>\n",
       "      <td>Sanya</td>\n",
       "      <td>Female</td>\n",
       "      <td>58.0</td>\n",
       "      <td>Kolkata</td>\n",
       "      <td>Working Professional</td>\n",
       "      <td>Educational Consultant</td>\n",
       "      <td>NaN</td>\n",
       "      <td>2.0</td>\n",
       "      <td>NaN</td>\n",
       "      <td>NaN</td>\n",
       "      <td>4.0</td>\n",
       "      <td>Less than 5 hours</td>\n",
       "      <td>Moderate</td>\n",
       "      <td>B.Ed</td>\n",
       "      <td>No</td>\n",
       "      <td>6.0</td>\n",
       "      <td>4.0</td>\n",
       "      <td>No</td>\n",
       "    </tr>\n",
       "    <tr>\n",
       "      <th>2</th>\n",
       "      <td>140702</td>\n",
       "      <td>Yash</td>\n",
       "      <td>Male</td>\n",
       "      <td>53.0</td>\n",
       "      <td>Jaipur</td>\n",
       "      <td>Working Professional</td>\n",
       "      <td>Teacher</td>\n",
       "      <td>NaN</td>\n",
       "      <td>4.0</td>\n",
       "      <td>NaN</td>\n",
       "      <td>NaN</td>\n",
       "      <td>1.0</td>\n",
       "      <td>7-8 hours</td>\n",
       "      <td>Moderate</td>\n",
       "      <td>B.Arch</td>\n",
       "      <td>Yes</td>\n",
       "      <td>12.0</td>\n",
       "      <td>4.0</td>\n",
       "      <td>No</td>\n",
       "    </tr>\n",
       "    <tr>\n",
       "      <th>3</th>\n",
       "      <td>140703</td>\n",
       "      <td>Nalini</td>\n",
       "      <td>Female</td>\n",
       "      <td>23.0</td>\n",
       "      <td>Rajkot</td>\n",
       "      <td>Student</td>\n",
       "      <td>NaN</td>\n",
       "      <td>5.0</td>\n",
       "      <td>NaN</td>\n",
       "      <td>6.84</td>\n",
       "      <td>1.0</td>\n",
       "      <td>NaN</td>\n",
       "      <td>More than 8 hours</td>\n",
       "      <td>Moderate</td>\n",
       "      <td>BSc</td>\n",
       "      <td>Yes</td>\n",
       "      <td>10.0</td>\n",
       "      <td>4.0</td>\n",
       "      <td>No</td>\n",
       "    </tr>\n",
       "    <tr>\n",
       "      <th>4</th>\n",
       "      <td>140704</td>\n",
       "      <td>Shaurya</td>\n",
       "      <td>Male</td>\n",
       "      <td>47.0</td>\n",
       "      <td>Kalyan</td>\n",
       "      <td>Working Professional</td>\n",
       "      <td>Teacher</td>\n",
       "      <td>NaN</td>\n",
       "      <td>5.0</td>\n",
       "      <td>NaN</td>\n",
       "      <td>NaN</td>\n",
       "      <td>5.0</td>\n",
       "      <td>7-8 hours</td>\n",
       "      <td>Moderate</td>\n",
       "      <td>BCA</td>\n",
       "      <td>Yes</td>\n",
       "      <td>3.0</td>\n",
       "      <td>4.0</td>\n",
       "      <td>No</td>\n",
       "    </tr>\n",
       "  </tbody>\n",
       "</table>\n",
       "</div>"
      ],
      "text/plain": [
       "       id     Name  Gender   Age           City  \\\n",
       "0  140700   Shivam    Male  53.0  Visakhapatnam   \n",
       "1  140701    Sanya  Female  58.0        Kolkata   \n",
       "2  140702     Yash    Male  53.0         Jaipur   \n",
       "3  140703   Nalini  Female  23.0         Rajkot   \n",
       "4  140704  Shaurya    Male  47.0         Kalyan   \n",
       "\n",
       "  Working Professional or Student              Profession  Academic Pressure  \\\n",
       "0            Working Professional                   Judge                NaN   \n",
       "1            Working Professional  Educational Consultant                NaN   \n",
       "2            Working Professional                 Teacher                NaN   \n",
       "3                         Student                     NaN                5.0   \n",
       "4            Working Professional                 Teacher                NaN   \n",
       "\n",
       "   Work Pressure  CGPA  Study Satisfaction  Job Satisfaction  \\\n",
       "0            2.0   NaN                 NaN               5.0   \n",
       "1            2.0   NaN                 NaN               4.0   \n",
       "2            4.0   NaN                 NaN               1.0   \n",
       "3            NaN  6.84                 1.0               NaN   \n",
       "4            5.0   NaN                 NaN               5.0   \n",
       "\n",
       "      Sleep Duration Dietary Habits  Degree  \\\n",
       "0  Less than 5 hours       Moderate     LLB   \n",
       "1  Less than 5 hours       Moderate    B.Ed   \n",
       "2          7-8 hours       Moderate  B.Arch   \n",
       "3  More than 8 hours       Moderate     BSc   \n",
       "4          7-8 hours       Moderate     BCA   \n",
       "\n",
       "  Have you ever had suicidal thoughts ?  Work/Study Hours  Financial Stress  \\\n",
       "0                                    No               9.0               3.0   \n",
       "1                                    No               6.0               4.0   \n",
       "2                                   Yes              12.0               4.0   \n",
       "3                                   Yes              10.0               4.0   \n",
       "4                                   Yes               3.0               4.0   \n",
       "\n",
       "  Family History of Mental Illness  \n",
       "0                              Yes  \n",
       "1                               No  \n",
       "2                               No  \n",
       "3                               No  \n",
       "4                               No  "
      ]
     },
     "execution_count": 7,
     "metadata": {},
     "output_type": "execute_result"
    }
   ],
   "source": [
    "print(data.shape)\n",
    "data.head()"
   ]
  },
  {
   "cell_type": "markdown",
   "id": "68619379-1fd7-4381-a1e1-4e7ec743bd83",
   "metadata": {},
   "source": [
    "### Dropping Unwanted Features\n",
    "- **id:** This is just a unique identifier for each person in the dataset, which does not contribute to predicting mental health outcomes.\n",
    "- **Name:** This feature is not relevant to predicting depression and could introduce noise i.e it does not provide meaningful information for the model"
   ]
  },
  {
   "cell_type": "code",
   "execution_count": 8,
   "id": "5a067828-19e1-4d4e-9ae2-ed341f126f5c",
   "metadata": {},
   "outputs": [],
   "source": [
    "data.drop(columns=['id', 'Name'], inplace=True)"
   ]
  },
  {
   "cell_type": "markdown",
   "id": "96d588c3-38fb-40f7-91d3-c0e1d7fb3ce1",
   "metadata": {},
   "source": [
    "### Rename columns"
   ]
  },
  {
   "cell_type": "code",
   "execution_count": 10,
   "id": "c0e5a880-048d-435f-94a6-5662a916e3b0",
   "metadata": {},
   "outputs": [],
   "source": [
    "data.rename(columns={'Have you ever had suicidal thoughts ?': 'Had Suicidal Thoughts?'}, inplace=True)"
   ]
  },
  {
   "cell_type": "markdown",
   "id": "2d4d6b7c-930c-4474-bf4a-055d20f63d7f",
   "metadata": {},
   "source": [
    "## Data Types"
   ]
  },
  {
   "cell_type": "code",
   "execution_count": 11,
   "id": "79998801-01c0-439a-bd46-00af5ac6f6c4",
   "metadata": {},
   "outputs": [
    {
     "data": {
      "text/plain": [
       "Gender                               object\n",
       "Age                                 float64\n",
       "City                                 object\n",
       "Working Professional or Student      object\n",
       "Profession                           object\n",
       "Academic Pressure                   float64\n",
       "Work Pressure                       float64\n",
       "CGPA                                float64\n",
       "Study Satisfaction                  float64\n",
       "Job Satisfaction                    float64\n",
       "Sleep Duration                       object\n",
       "Dietary Habits                       object\n",
       "Degree                               object\n",
       "Had Suicidal Thoughts?               object\n",
       "Work/Study Hours                    float64\n",
       "Financial Stress                    float64\n",
       "Family History of Mental Illness     object\n",
       "dtype: object"
      ]
     },
     "execution_count": 11,
     "metadata": {},
     "output_type": "execute_result"
    }
   ],
   "source": [
    "data.dtypes"
   ]
  },
  {
   "cell_type": "markdown",
   "id": "416ed9eb-765d-4838-867f-715845077237",
   "metadata": {},
   "source": [
    "## Data Types Conversion"
   ]
  },
  {
   "cell_type": "code",
   "execution_count": 12,
   "id": "463c05b6-7b7e-4af5-a130-5741d4026956",
   "metadata": {},
   "outputs": [],
   "source": [
    "data['Study Satisfaction'] = data['Study Satisfaction'].astype('category')\n",
    "data['Job Satisfaction'] = data['Job Satisfaction'].astype('category')\n",
    "data['Academic Pressure'] = data['Academic Pressure'].astype('category')\n",
    "data['Work Pressure'] = data['Work Pressure'].astype('category')\n",
    "data['Financial Stress'] = data['Financial Stress'].astype('category')\n",
    "data['Work/Study Hours'] = data['Work/Study Hours'].astype('category')"
   ]
  },
  {
   "cell_type": "markdown",
   "id": "2f55ae7d-57f8-4b60-bfe5-239088ca7232",
   "metadata": {},
   "source": [
    "## Checking for Missing Values"
   ]
  },
  {
   "cell_type": "code",
   "execution_count": 13,
   "id": "cc039cff-9255-4fdb-bdab-7165fd855c15",
   "metadata": {},
   "outputs": [
    {
     "name": "stdout",
     "output_type": "stream",
     "text": [
      "Missing value counts:\n",
      "\n",
      "Profession            24632\n",
      "Academic Pressure     75033\n",
      "Work Pressure         18778\n",
      "CGPA                  75034\n",
      "Study Satisfaction    75033\n",
      "Job Satisfaction      18774\n",
      "Dietary Habits            5\n",
      "Degree                    2\n",
      "dtype: int64\n",
      "\n",
      "Missing value percentages:\n",
      "\n",
      "Profession            26.26\n",
      "Academic Pressure     79.99\n",
      "Work Pressure         20.02\n",
      "CGPA                  79.99\n",
      "Study Satisfaction    79.99\n",
      "Job Satisfaction      20.01\n",
      "Dietary Habits         0.01\n",
      "Degree                 0.00\n",
      "dtype: float64\n"
     ]
    }
   ],
   "source": [
    "missing_values_cols = data.isnull()\n",
    "print('Missing value counts:\\n')\n",
    "print(missing_values_cols.sum()[missing_values_cols.sum() > 0])\n",
    "print('\\nMissing value percentages:\\n')\n",
    "print(round((missing_values_cols.mean()[missing_values_cols.mean() > 0]) * 100, 2))"
   ]
  },
  {
   "cell_type": "markdown",
   "id": "5572744d-7968-420d-917a-3530e0e28581",
   "metadata": {},
   "source": [
    "### Descriptive Statistics\n",
    "#### Continuous Variables"
   ]
  },
  {
   "cell_type": "code",
   "execution_count": 16,
   "id": "2872ea85-1f68-45e8-a5d4-b43939e5d0d6",
   "metadata": {},
   "outputs": [
    {
     "data": {
      "text/html": [
       "<div>\n",
       "<style scoped>\n",
       "    .dataframe tbody tr th:only-of-type {\n",
       "        vertical-align: middle;\n",
       "    }\n",
       "\n",
       "    .dataframe tbody tr th {\n",
       "        vertical-align: top;\n",
       "    }\n",
       "\n",
       "    .dataframe thead th {\n",
       "        text-align: right;\n",
       "    }\n",
       "</style>\n",
       "<table border=\"1\" class=\"dataframe\">\n",
       "  <thead>\n",
       "    <tr style=\"text-align: right;\">\n",
       "      <th></th>\n",
       "      <th>Age</th>\n",
       "      <th>CGPA</th>\n",
       "    </tr>\n",
       "  </thead>\n",
       "  <tbody>\n",
       "    <tr>\n",
       "      <th>count</th>\n",
       "      <td>93800.000000</td>\n",
       "      <td>18766.000000</td>\n",
       "    </tr>\n",
       "    <tr>\n",
       "      <th>mean</th>\n",
       "      <td>40.321685</td>\n",
       "      <td>7.674016</td>\n",
       "    </tr>\n",
       "    <tr>\n",
       "      <th>std</th>\n",
       "      <td>12.393480</td>\n",
       "      <td>1.465056</td>\n",
       "    </tr>\n",
       "    <tr>\n",
       "      <th>min</th>\n",
       "      <td>18.000000</td>\n",
       "      <td>5.030000</td>\n",
       "    </tr>\n",
       "    <tr>\n",
       "      <th>25%</th>\n",
       "      <td>29.000000</td>\n",
       "      <td>6.330000</td>\n",
       "    </tr>\n",
       "    <tr>\n",
       "      <th>50%</th>\n",
       "      <td>42.000000</td>\n",
       "      <td>7.800000</td>\n",
       "    </tr>\n",
       "    <tr>\n",
       "      <th>75%</th>\n",
       "      <td>51.000000</td>\n",
       "      <td>8.940000</td>\n",
       "    </tr>\n",
       "    <tr>\n",
       "      <th>max</th>\n",
       "      <td>60.000000</td>\n",
       "      <td>10.000000</td>\n",
       "    </tr>\n",
       "  </tbody>\n",
       "</table>\n",
       "</div>"
      ],
      "text/plain": [
       "                Age          CGPA\n",
       "count  93800.000000  18766.000000\n",
       "mean      40.321685      7.674016\n",
       "std       12.393480      1.465056\n",
       "min       18.000000      5.030000\n",
       "25%       29.000000      6.330000\n",
       "50%       42.000000      7.800000\n",
       "75%       51.000000      8.940000\n",
       "max       60.000000     10.000000"
      ]
     },
     "execution_count": 16,
     "metadata": {},
     "output_type": "execute_result"
    }
   ],
   "source": [
    "data.describe()"
   ]
  },
  {
   "cell_type": "markdown",
   "id": "5fe4fa35-c07e-4028-a90c-07e0e0bd8dc2",
   "metadata": {},
   "source": [
    "**Insights:**\n",
    "- The age distribution closely aligns with that observed in the training dataset, indicating consistency across samples\n",
    "- Similar to the training dataset, CGPA data is available for only a subset of the population, likely reflecting the portion representing students\n",
    "- The CGPA median is comparable to that in the training dataset, suggesting similar academic performance levels across the samples"
   ]
  },
  {
   "cell_type": "code",
   "execution_count": 17,
   "id": "8bdc44ce-4533-4219-8326-4ad20443baaa",
   "metadata": {},
   "outputs": [
    {
     "data": {
      "text/html": [
       "<div>\n",
       "<style scoped>\n",
       "    .dataframe tbody tr th:only-of-type {\n",
       "        vertical-align: middle;\n",
       "    }\n",
       "\n",
       "    .dataframe tbody tr th {\n",
       "        vertical-align: top;\n",
       "    }\n",
       "\n",
       "    .dataframe thead th {\n",
       "        text-align: right;\n",
       "    }\n",
       "</style>\n",
       "<table border=\"1\" class=\"dataframe\">\n",
       "  <thead>\n",
       "    <tr style=\"text-align: right;\">\n",
       "      <th></th>\n",
       "      <th>Gender</th>\n",
       "      <th>City</th>\n",
       "      <th>Working Professional or Student</th>\n",
       "      <th>Study Satisfaction</th>\n",
       "      <th>Job Satisfaction</th>\n",
       "      <th>Academic Pressure</th>\n",
       "      <th>Work Pressure</th>\n",
       "      <th>Work/Study Hours</th>\n",
       "      <th>Profession</th>\n",
       "      <th>Sleep Duration</th>\n",
       "      <th>Dietary Habits</th>\n",
       "      <th>Degree</th>\n",
       "      <th>Financial Stress</th>\n",
       "      <th>Had Suicidal Thoughts?</th>\n",
       "      <th>Family History of Mental Illness</th>\n",
       "    </tr>\n",
       "  </thead>\n",
       "  <tbody>\n",
       "    <tr>\n",
       "      <th>count</th>\n",
       "      <td>93800</td>\n",
       "      <td>93800</td>\n",
       "      <td>93800</td>\n",
       "      <td>18767.0</td>\n",
       "      <td>75026.0</td>\n",
       "      <td>18767.0</td>\n",
       "      <td>75022.0</td>\n",
       "      <td>93800.0</td>\n",
       "      <td>69168</td>\n",
       "      <td>93800</td>\n",
       "      <td>93795</td>\n",
       "      <td>93798</td>\n",
       "      <td>93800.0</td>\n",
       "      <td>93800</td>\n",
       "      <td>93800</td>\n",
       "    </tr>\n",
       "    <tr>\n",
       "      <th>unique</th>\n",
       "      <td>2</td>\n",
       "      <td>68</td>\n",
       "      <td>2</td>\n",
       "      <td>5.0</td>\n",
       "      <td>5.0</td>\n",
       "      <td>5.0</td>\n",
       "      <td>5.0</td>\n",
       "      <td>13.0</td>\n",
       "      <td>64</td>\n",
       "      <td>31</td>\n",
       "      <td>22</td>\n",
       "      <td>87</td>\n",
       "      <td>5.0</td>\n",
       "      <td>2</td>\n",
       "      <td>2</td>\n",
       "    </tr>\n",
       "    <tr>\n",
       "      <th>top</th>\n",
       "      <td>Male</td>\n",
       "      <td>Kalyan</td>\n",
       "      <td>Working Professional</td>\n",
       "      <td>4.0</td>\n",
       "      <td>2.0</td>\n",
       "      <td>3.0</td>\n",
       "      <td>2.0</td>\n",
       "      <td>10.0</td>\n",
       "      <td>Teacher</td>\n",
       "      <td>Less than 5 hours</td>\n",
       "      <td>Moderate</td>\n",
       "      <td>Class 12</td>\n",
       "      <td>2.0</td>\n",
       "      <td>No</td>\n",
       "      <td>No</td>\n",
       "    </tr>\n",
       "    <tr>\n",
       "      <th>freq</th>\n",
       "      <td>51262</td>\n",
       "      <td>4387</td>\n",
       "      <td>75028</td>\n",
       "      <td>4175.0</td>\n",
       "      <td>16971.0</td>\n",
       "      <td>4930.0</td>\n",
       "      <td>16255.0</td>\n",
       "      <td>9450.0</td>\n",
       "      <td>16385</td>\n",
       "      <td>25661</td>\n",
       "      <td>33018</td>\n",
       "      <td>9812</td>\n",
       "      <td>21151.0</td>\n",
       "      <td>47375</td>\n",
       "      <td>47118</td>\n",
       "    </tr>\n",
       "  </tbody>\n",
       "</table>\n",
       "</div>"
      ],
      "text/plain": [
       "       Gender    City Working Professional or Student  Study Satisfaction  \\\n",
       "count   93800   93800                           93800             18767.0   \n",
       "unique      2      68                               2                 5.0   \n",
       "top      Male  Kalyan            Working Professional                 4.0   \n",
       "freq    51262    4387                           75028              4175.0   \n",
       "\n",
       "        Job Satisfaction  Academic Pressure  Work Pressure  Work/Study Hours  \\\n",
       "count            75026.0            18767.0        75022.0           93800.0   \n",
       "unique               5.0                5.0            5.0              13.0   \n",
       "top                  2.0                3.0            2.0              10.0   \n",
       "freq             16971.0             4930.0        16255.0            9450.0   \n",
       "\n",
       "       Profession     Sleep Duration Dietary Habits    Degree  \\\n",
       "count       69168              93800          93795     93798   \n",
       "unique         64                 31             22        87   \n",
       "top       Teacher  Less than 5 hours       Moderate  Class 12   \n",
       "freq        16385              25661          33018      9812   \n",
       "\n",
       "        Financial Stress Had Suicidal Thoughts?  \\\n",
       "count            93800.0                  93800   \n",
       "unique               5.0                      2   \n",
       "top                  2.0                     No   \n",
       "freq             21151.0                  47375   \n",
       "\n",
       "       Family History of Mental Illness  \n",
       "count                             93800  \n",
       "unique                                2  \n",
       "top                                  No  \n",
       "freq                              47118  "
      ]
     },
     "execution_count": 17,
     "metadata": {},
     "output_type": "execute_result"
    }
   ],
   "source": [
    "categorical_variables = ['Gender', 'City', 'Working Professional or Student', 'Study Satisfaction',\n",
    "                         'Job Satisfaction', 'Academic Pressure', 'Work Pressure', 'Work/Study Hours',\n",
    "                         'Profession', 'Sleep Duration', 'Dietary Habits', 'Degree', 'Financial Stress',\n",
    "                         'Had Suicidal Thoughts?', 'Family History of Mental Illness']\n",
    "data[categorical_variables].describe()"
   ]
  },
  {
   "cell_type": "markdown",
   "id": "aadfdc74-c57e-4645-9d07-c74538a8c3ae",
   "metadata": {},
   "source": [
    "**Insights:**\n",
    "\n",
    "- **Gender:** The dataset has 93,800 entries for gender, with two categories (presumably Male and Female). The most frequent gender is Male, with 51,262 entries, indicating a gender imbalance similar to that in the training dataset.\n",
    "\n",
    "- **City:** There are 68 unique cities, with \"Kalyan\" being the most common, appearing 4,387 times. This suggests a wide geographical representation, though certain cities, like Kalyan, have a higher concentration.\n",
    "\n",
    "- **Working Professional or Student:** The dataset includes two categories, \"Working Professional\" and \"Student.\" The majority are Working Professionals, with 75,028 entries, which aligns with the training dataset's focus on working individuals.\n",
    "\n",
    "- **Study Satisfaction:** This attribute has five satisfaction levels, with Level 4 being the most common (4,171 entries). Data is available for a subset (18,767 entries), likely only for students, as observed in the training dataset.\n",
    "\n",
    "- **Job Satisfaction:** Five job satisfaction levels are recorded, with Level 2 (16,971 entries) being the most common, suggesting moderate job dissatisfaction among working professionals, consistent with the training set. Data is available for 75,026 entries, aligning with the working professional group.\n",
    "\n",
    "- **Academic Pressure:** The dataset includes five levels of academic pressure, with Level 3 (4,930 entries) being the most frequent, indicating moderate academic pressure for students. This attribute is limited to the student group (18,767 entries), as in the training dataset.\n",
    "\n",
    "- **Work Pressure:** Five levels of work pressure are present, with Level 2 (16,255 entries) as the most frequent, suggesting moderate work pressure among working professionals, consistent with the training data. This attribute applies primarily to the working professional subset (75,022 entries).\n",
    "\n",
    "- **Work/Study Hours:** There are 13 unique values for work/study hours, with 10 hours being the most common (9,450 entries), suggesting that long hours are prevalent in this sample population.\n",
    "\n",
    "- **Profession:** The dataset includes 64 unique professions, with \"Teacher\" as the most common (16,385 entries), indicating a high representation of educators.\n",
    "\n",
    "- **Sleep Duration:** The dataset records 31 unique sleep durations, with \"Less than 5 hours\" being the most frequent (25,661 entries), highlighting a trend of short sleep duration among participants.\n",
    "\n",
    "- **Dietary Habits:** There are 22 unique dietary categories, with \"Moderate\" being the most common (33,018 entries), indicating that most individuals report average or balanced dietary habits.\n",
    "\n",
    "- **Degree:** The dataset has 87 unique educational qualifications, with \"Class 12\" being the most common (9,812 entries), suggesting a significant portion of participants have completed secondary education.\n",
    "\n",
    "- **Financial Stress:** Financial stress has five levels, with Level 2 being the most common (21,151 entries), indicating moderate financial stress, similar to the training dataset.\n",
    "\n",
    "- **Had Suicidal Thoughts?:** This attribute has two responses, \"Yes\" and \"No.\" \"No\" is the most frequent response (47,375 entries), suggesting that about half of the respondents reported no suicidal thoughts, similar to the training set.\n",
    "\n",
    "- **Family History of Mental Illness:** Two responses, \"Yes\" and \"No,\" are recorded for family history of mental illness. The most common response is \"No\" (47,118 entries), indicating that the majority do not have a known family history of mental illness."
   ]
  },
  {
   "cell_type": "markdown",
   "id": "a05869dc-cfbd-49e8-9362-9fe448559ba2",
   "metadata": {},
   "source": [
    "## Univariate Analysis\n",
    "### Age"
   ]
  },
  {
   "cell_type": "code",
   "execution_count": 18,
   "id": "54627df8-505e-4a79-ab34-cfb639c74932",
   "metadata": {},
   "outputs": [
    {
     "data": {
      "image/png": "[encoded data removed]",
      "text/plain": [
       "<Figure size 2000x600 with 2 Axes>"
      ]
     },
     "metadata": {},
     "output_type": "display_data"
    }
   ],
   "source": [
    "plot_numerical(data, 'Age')"
   ]
  },
  {
   "cell_type": "markdown",
   "id": "cacb3a8c-ecda-4be4-96c0-de17ebb9bada",
   "metadata": {},
   "source": [
    "#### Insights:\n",
    "- **Histogram:**\n",
    "    - The age distribution in the test set appears fairly consistent, with relatively uniform counts across different age groups\n",
    "    - Ages span from around 18 to 60, without any single age group dominating the dataset, which suggests a broad age range and diversity\n",
    "    - Peaks are visible around the ages of 20 and 50, similar to the training set, indicating these age groups might be more represented\n",
    "    - This distribution suggests a good mix of younger and older adults, making the test set comparable to the training set.\n",
    "- **Box Plot:**\n",
    "    - The median age is around the early 40s, similar to the training set, indicating that half of the population is below this age and half is above\n",
    "    - The interquartile range (IQR) falls between approximately 30 and 50 years, indicating that most of the data lies within this age range\n",
    "    - No outliers are observed beyond the whiskers, indicating a well-contained age range from 18 to 60, similar to the training data"
   ]
  },
  {
   "cell_type": "code",
   "execution_count": null,
   "id": "944221d3-19da-4125-bb53-b793569e75de",
   "metadata": {},
   "outputs": [],
   "source": []
  }
 ],
 "metadata": {
  "kernelspec": {
   "display_name": "Python 3 (ipykernel)",
   "language": "python",
   "name": "python3"
  },
  "language_info": {
   "codemirror_mode": {
    "name": "ipython",
    "version": 3
   },
   "file_extension": ".py",
   "mimetype": "text/x-python",
   "name": "python",
   "nbconvert_exporter": "python",
   "pygments_lexer": "ipython3",
   "version": "3.13.0"
  }
 },
 "nbformat": 4,
 "nbformat_minor": 5
}
