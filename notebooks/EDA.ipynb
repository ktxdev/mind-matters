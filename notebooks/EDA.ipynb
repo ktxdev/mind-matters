{
 "cells": [
  {
   "metadata": {},
   "cell_type": "markdown",
   "source": "## Import Libraries",
   "id": "73b766e0a4a71b31"
  },
  {
   "cell_type": "code",
   "id": "initial_id",
   "metadata": {
    "collapsed": true,
    "ExecuteTime": {
     "end_time": "2024-11-12T04:01:27.015112Z",
     "start_time": "2024-11-12T04:01:26.573016Z"
    }
   },
   "source": "import pandas as pd",
   "outputs": [],
   "execution_count": 1
  },
  {
   "metadata": {},
   "cell_type": "markdown",
   "source": "## Load the dataset",
   "id": "fd22154828707d96"
  },
  {
   "metadata": {
    "ExecuteTime": {
     "end_time": "2024-11-12T05:38:25.650311Z",
     "start_time": "2024-11-12T05:38:24.468326Z"
    }
   },
   "cell_type": "code",
   "source": "data = pd.read_csv('https://raw.githubusercontent.com/ktxdev/mind-matters/refs/heads/master/data/raw/train.csv')",
   "id": "b0bc7b8e4db8cba",
   "outputs": [],
   "execution_count": 45
  },
  {
   "metadata": {},
   "cell_type": "markdown",
   "source": [
    "## Initial Exploration\n",
    "### Shape and Structure"
   ],
   "id": "647531232155e781"
  },
  {
   "metadata": {
    "ExecuteTime": {
     "end_time": "2024-11-12T05:38:27.595413Z",
     "start_time": "2024-11-12T05:38:27.581259Z"
    }
   },
   "cell_type": "code",
   "source": [
    "print(data.shape)\n",
    "data.head()"
   ],
   "id": "2d3a49c103c2cbf7",
   "outputs": [
    {
     "name": "stdout",
     "output_type": "stream",
     "text": [
      "(140700, 20)\n"
     ]
    },
    {
     "data": {
      "text/plain": [
       "   id      Name  Gender   Age           City Working Professional or Student  \\\n",
       "0   0  Aaradhya  Female  49.0       Ludhiana            Working Professional   \n",
       "1   1     Vivan    Male  26.0       Varanasi            Working Professional   \n",
       "2   2    Yuvraj    Male  33.0  Visakhapatnam                         Student   \n",
       "3   3    Yuvraj    Male  22.0         Mumbai            Working Professional   \n",
       "4   4      Rhea  Female  30.0         Kanpur            Working Professional   \n",
       "\n",
       "         Profession  Academic Pressure  Work Pressure  CGPA  \\\n",
       "0              Chef                NaN            5.0   NaN   \n",
       "1           Teacher                NaN            4.0   NaN   \n",
       "2               NaN                5.0            NaN  8.97   \n",
       "3           Teacher                NaN            5.0   NaN   \n",
       "4  Business Analyst                NaN            1.0   NaN   \n",
       "\n",
       "   Study Satisfaction  Job Satisfaction     Sleep Duration Dietary Habits  \\\n",
       "0                 NaN               2.0  More than 8 hours        Healthy   \n",
       "1                 NaN               3.0  Less than 5 hours      Unhealthy   \n",
       "2                 2.0               NaN          5-6 hours        Healthy   \n",
       "3                 NaN               1.0  Less than 5 hours       Moderate   \n",
       "4                 NaN               1.0          5-6 hours      Unhealthy   \n",
       "\n",
       "    Degree Have you ever had suicidal thoughts ?  Work/Study Hours  \\\n",
       "0      BHM                                    No               1.0   \n",
       "1      LLB                                   Yes               7.0   \n",
       "2  B.Pharm                                   Yes               3.0   \n",
       "3      BBA                                   Yes              10.0   \n",
       "4      BBA                                   Yes               9.0   \n",
       "\n",
       "   Financial Stress Family History of Mental Illness  Depression  \n",
       "0               2.0                               No           0  \n",
       "1               3.0                               No           1  \n",
       "2               1.0                               No           1  \n",
       "3               1.0                              Yes           1  \n",
       "4               4.0                              Yes           0  "
      ],
      "text/html": [
       "<div>\n",
       "<style scoped>\n",
       "    .dataframe tbody tr th:only-of-type {\n",
       "        vertical-align: middle;\n",
       "    }\n",
       "\n",
       "    .dataframe tbody tr th {\n",
       "        vertical-align: top;\n",
       "    }\n",
       "\n",
       "    .dataframe thead th {\n",
       "        text-align: right;\n",
       "    }\n",
       "</style>\n",
       "<table border=\"1\" class=\"dataframe\">\n",
       "  <thead>\n",
       "    <tr style=\"text-align: right;\">\n",
       "      <th></th>\n",
       "      <th>id</th>\n",
       "      <th>Name</th>\n",
       "      <th>Gender</th>\n",
       "      <th>Age</th>\n",
       "      <th>City</th>\n",
       "      <th>Working Professional or Student</th>\n",
       "      <th>Profession</th>\n",
       "      <th>Academic Pressure</th>\n",
       "      <th>Work Pressure</th>\n",
       "      <th>CGPA</th>\n",
       "      <th>Study Satisfaction</th>\n",
       "      <th>Job Satisfaction</th>\n",
       "      <th>Sleep Duration</th>\n",
       "      <th>Dietary Habits</th>\n",
       "      <th>Degree</th>\n",
       "      <th>Have you ever had suicidal thoughts ?</th>\n",
       "      <th>Work/Study Hours</th>\n",
       "      <th>Financial Stress</th>\n",
       "      <th>Family History of Mental Illness</th>\n",
       "      <th>Depression</th>\n",
       "    </tr>\n",
       "  </thead>\n",
       "  <tbody>\n",
       "    <tr>\n",
       "      <th>0</th>\n",
       "      <td>0</td>\n",
       "      <td>Aaradhya</td>\n",
       "      <td>Female</td>\n",
       "      <td>49.0</td>\n",
       "      <td>Ludhiana</td>\n",
       "      <td>Working Professional</td>\n",
       "      <td>Chef</td>\n",
       "      <td>NaN</td>\n",
       "      <td>5.0</td>\n",
       "      <td>NaN</td>\n",
       "      <td>NaN</td>\n",
       "      <td>2.0</td>\n",
       "      <td>More than 8 hours</td>\n",
       "      <td>Healthy</td>\n",
       "      <td>BHM</td>\n",
       "      <td>No</td>\n",
       "      <td>1.0</td>\n",
       "      <td>2.0</td>\n",
       "      <td>No</td>\n",
       "      <td>0</td>\n",
       "    </tr>\n",
       "    <tr>\n",
       "      <th>1</th>\n",
       "      <td>1</td>\n",
       "      <td>Vivan</td>\n",
       "      <td>Male</td>\n",
       "      <td>26.0</td>\n",
       "      <td>Varanasi</td>\n",
       "      <td>Working Professional</td>\n",
       "      <td>Teacher</td>\n",
       "      <td>NaN</td>\n",
       "      <td>4.0</td>\n",
       "      <td>NaN</td>\n",
       "      <td>NaN</td>\n",
       "      <td>3.0</td>\n",
       "      <td>Less than 5 hours</td>\n",
       "      <td>Unhealthy</td>\n",
       "      <td>LLB</td>\n",
       "      <td>Yes</td>\n",
       "      <td>7.0</td>\n",
       "      <td>3.0</td>\n",
       "      <td>No</td>\n",
       "      <td>1</td>\n",
       "    </tr>\n",
       "    <tr>\n",
       "      <th>2</th>\n",
       "      <td>2</td>\n",
       "      <td>Yuvraj</td>\n",
       "      <td>Male</td>\n",
       "      <td>33.0</td>\n",
       "      <td>Visakhapatnam</td>\n",
       "      <td>Student</td>\n",
       "      <td>NaN</td>\n",
       "      <td>5.0</td>\n",
       "      <td>NaN</td>\n",
       "      <td>8.97</td>\n",
       "      <td>2.0</td>\n",
       "      <td>NaN</td>\n",
       "      <td>5-6 hours</td>\n",
       "      <td>Healthy</td>\n",
       "      <td>B.Pharm</td>\n",
       "      <td>Yes</td>\n",
       "      <td>3.0</td>\n",
       "      <td>1.0</td>\n",
       "      <td>No</td>\n",
       "      <td>1</td>\n",
       "    </tr>\n",
       "    <tr>\n",
       "      <th>3</th>\n",
       "      <td>3</td>\n",
       "      <td>Yuvraj</td>\n",
       "      <td>Male</td>\n",
       "      <td>22.0</td>\n",
       "      <td>Mumbai</td>\n",
       "      <td>Working Professional</td>\n",
       "      <td>Teacher</td>\n",
       "      <td>NaN</td>\n",
       "      <td>5.0</td>\n",
       "      <td>NaN</td>\n",
       "      <td>NaN</td>\n",
       "      <td>1.0</td>\n",
       "      <td>Less than 5 hours</td>\n",
       "      <td>Moderate</td>\n",
       "      <td>BBA</td>\n",
       "      <td>Yes</td>\n",
       "      <td>10.0</td>\n",
       "      <td>1.0</td>\n",
       "      <td>Yes</td>\n",
       "      <td>1</td>\n",
       "    </tr>\n",
       "    <tr>\n",
       "      <th>4</th>\n",
       "      <td>4</td>\n",
       "      <td>Rhea</td>\n",
       "      <td>Female</td>\n",
       "      <td>30.0</td>\n",
       "      <td>Kanpur</td>\n",
       "      <td>Working Professional</td>\n",
       "      <td>Business Analyst</td>\n",
       "      <td>NaN</td>\n",
       "      <td>1.0</td>\n",
       "      <td>NaN</td>\n",
       "      <td>NaN</td>\n",
       "      <td>1.0</td>\n",
       "      <td>5-6 hours</td>\n",
       "      <td>Unhealthy</td>\n",
       "      <td>BBA</td>\n",
       "      <td>Yes</td>\n",
       "      <td>9.0</td>\n",
       "      <td>4.0</td>\n",
       "      <td>Yes</td>\n",
       "      <td>0</td>\n",
       "    </tr>\n",
       "  </tbody>\n",
       "</table>\n",
       "</div>"
      ]
     },
     "execution_count": 46,
     "metadata": {},
     "output_type": "execute_result"
    }
   ],
   "execution_count": 46
  },
  {
   "metadata": {},
   "cell_type": "markdown",
   "source": "### Dropping features not useful for analysis",
   "id": "6846280ddf4bab40"
  },
  {
   "metadata": {
    "ExecuteTime": {
     "end_time": "2024-11-12T05:38:30.386085Z",
     "start_time": "2024-11-12T05:38:30.367440Z"
    }
   },
   "cell_type": "code",
   "source": "data.drop(columns=['id', 'Name'], inplace=True)",
   "id": "57e1459f48734412",
   "outputs": [],
   "execution_count": 47
  },
  {
   "metadata": {},
   "cell_type": "markdown",
   "source": "### Data Types",
   "id": "721eb3095718e2fc"
  },
  {
   "metadata": {
    "ExecuteTime": {
     "end_time": "2024-11-12T05:38:32.599721Z",
     "start_time": "2024-11-12T05:38:32.594571Z"
    }
   },
   "cell_type": "code",
   "source": "data.dtypes",
   "id": "2fff704a1a33d6b7",
   "outputs": [
    {
     "data": {
      "text/plain": [
       "Gender                                    object\n",
       "Age                                      float64\n",
       "City                                      object\n",
       "Working Professional or Student           object\n",
       "Profession                                object\n",
       "Academic Pressure                        float64\n",
       "Work Pressure                            float64\n",
       "CGPA                                     float64\n",
       "Study Satisfaction                       float64\n",
       "Job Satisfaction                         float64\n",
       "Sleep Duration                            object\n",
       "Dietary Habits                            object\n",
       "Degree                                    object\n",
       "Have you ever had suicidal thoughts ?     object\n",
       "Work/Study Hours                         float64\n",
       "Financial Stress                         float64\n",
       "Family History of Mental Illness          object\n",
       "Depression                                 int64\n",
       "dtype: object"
      ]
     },
     "execution_count": 48,
     "metadata": {},
     "output_type": "execute_result"
    }
   ],
   "execution_count": 48
  },
  {
   "metadata": {},
   "cell_type": "markdown",
   "source": "### Data Types Conversion",
   "id": "57e0a0b3a2251a3c"
  },
  {
   "metadata": {
    "ExecuteTime": {
     "end_time": "2024-11-12T05:42:09.353294Z",
     "start_time": "2024-11-12T05:42:09.333569Z"
    }
   },
   "cell_type": "code",
   "source": [
    "data['Study Satisfaction'] = data['Study Satisfaction'].astype('category')\n",
    "data['Job Satisfaction'] = data['Job Satisfaction'].astype('category')\n",
    "data['Academic Pressure'] = data['Academic Pressure'].astype('category')\n",
    "data['Work Pressure'] = data['Work Pressure'].astype('category')\n",
    "data['Financial Stress'] = data['Financial Stress'].astype('category')\n",
    "data['Depression'] = data['Depression'].astype('category')"
   ],
   "id": "11caf31b06244962",
   "outputs": [],
   "execution_count": 49
  },
  {
   "metadata": {},
   "cell_type": "markdown",
   "source": "### Checking for Missing Values",
   "id": "c242ff5f181db81c"
  },
  {
   "metadata": {
    "ExecuteTime": {
     "end_time": "2024-11-12T05:47:59.743889Z",
     "start_time": "2024-11-12T05:47:59.703059Z"
    }
   },
   "cell_type": "code",
   "source": "data.isnull().sum()",
   "id": "828bb115e21044fd",
   "outputs": [
    {
     "data": {
      "text/plain": [
       "Gender                                        0\n",
       "Age                                           0\n",
       "City                                          0\n",
       "Working Professional or Student               0\n",
       "Profession                                36630\n",
       "Academic Pressure                        112803\n",
       "Work Pressure                             27918\n",
       "CGPA                                     112802\n",
       "Study Satisfaction                       112803\n",
       "Job Satisfaction                          27910\n",
       "Sleep Duration                                0\n",
       "Dietary Habits                                4\n",
       "Degree                                        2\n",
       "Have you ever had suicidal thoughts ?         0\n",
       "Work/Study Hours                              0\n",
       "Financial Stress                              4\n",
       "Family History of Mental Illness              0\n",
       "Depression                                    0\n",
       "dtype: int64"
      ]
     },
     "execution_count": 53,
     "metadata": {},
     "output_type": "execute_result"
    }
   ],
   "execution_count": 53
  },
  {
   "metadata": {},
   "cell_type": "markdown",
   "source": [
    "### Basic Statistics\n",
    "#### Continuous Variables"
   ],
   "id": "e237b124ac74de87"
  },
  {
   "metadata": {
    "ExecuteTime": {
     "end_time": "2024-11-12T05:42:15.078721Z",
     "start_time": "2024-11-12T05:42:15.053749Z"
    }
   },
   "cell_type": "code",
   "source": "data.describe()",
   "id": "d0625670b4c7afe7",
   "outputs": [
    {
     "data": {
      "text/plain": [
       "                 Age          CGPA  Work/Study Hours\n",
       "count  140700.000000  27898.000000     140700.000000\n",
       "mean       40.388621      7.658636          6.252679\n",
       "std        12.384099      1.464466          3.853615\n",
       "min        18.000000      5.030000          0.000000\n",
       "25%        29.000000      6.290000          3.000000\n",
       "50%        42.000000      7.770000          6.000000\n",
       "75%        51.000000      8.920000         10.000000\n",
       "max        60.000000     10.000000         12.000000"
      ],
      "text/html": [
       "<div>\n",
       "<style scoped>\n",
       "    .dataframe tbody tr th:only-of-type {\n",
       "        vertical-align: middle;\n",
       "    }\n",
       "\n",
       "    .dataframe tbody tr th {\n",
       "        vertical-align: top;\n",
       "    }\n",
       "\n",
       "    .dataframe thead th {\n",
       "        text-align: right;\n",
       "    }\n",
       "</style>\n",
       "<table border=\"1\" class=\"dataframe\">\n",
       "  <thead>\n",
       "    <tr style=\"text-align: right;\">\n",
       "      <th></th>\n",
       "      <th>Age</th>\n",
       "      <th>CGPA</th>\n",
       "      <th>Work/Study Hours</th>\n",
       "    </tr>\n",
       "  </thead>\n",
       "  <tbody>\n",
       "    <tr>\n",
       "      <th>count</th>\n",
       "      <td>140700.000000</td>\n",
       "      <td>27898.000000</td>\n",
       "      <td>140700.000000</td>\n",
       "    </tr>\n",
       "    <tr>\n",
       "      <th>mean</th>\n",
       "      <td>40.388621</td>\n",
       "      <td>7.658636</td>\n",
       "      <td>6.252679</td>\n",
       "    </tr>\n",
       "    <tr>\n",
       "      <th>std</th>\n",
       "      <td>12.384099</td>\n",
       "      <td>1.464466</td>\n",
       "      <td>3.853615</td>\n",
       "    </tr>\n",
       "    <tr>\n",
       "      <th>min</th>\n",
       "      <td>18.000000</td>\n",
       "      <td>5.030000</td>\n",
       "      <td>0.000000</td>\n",
       "    </tr>\n",
       "    <tr>\n",
       "      <th>25%</th>\n",
       "      <td>29.000000</td>\n",
       "      <td>6.290000</td>\n",
       "      <td>3.000000</td>\n",
       "    </tr>\n",
       "    <tr>\n",
       "      <th>50%</th>\n",
       "      <td>42.000000</td>\n",
       "      <td>7.770000</td>\n",
       "      <td>6.000000</td>\n",
       "    </tr>\n",
       "    <tr>\n",
       "      <th>75%</th>\n",
       "      <td>51.000000</td>\n",
       "      <td>8.920000</td>\n",
       "      <td>10.000000</td>\n",
       "    </tr>\n",
       "    <tr>\n",
       "      <th>max</th>\n",
       "      <td>60.000000</td>\n",
       "      <td>10.000000</td>\n",
       "      <td>12.000000</td>\n",
       "    </tr>\n",
       "  </tbody>\n",
       "</table>\n",
       "</div>"
      ]
     },
     "execution_count": 50,
     "metadata": {},
     "output_type": "execute_result"
    }
   ],
   "execution_count": 50
  },
  {
   "metadata": {},
   "cell_type": "markdown",
   "source": "#### Categorical Variables",
   "id": "d484c18c802d6cd1"
  },
  {
   "metadata": {
    "ExecuteTime": {
     "end_time": "2024-11-12T05:44:07.164657Z",
     "start_time": "2024-11-12T05:44:07.062078Z"
    }
   },
   "cell_type": "code",
   "source": [
    "categorical_variables = ['Gender', 'City', 'Working Professional or Student', 'Study Satisfaction',\n",
    "                         'Job Satisfaction', 'Academic Pressure', 'Work Pressure', 'Depression',\n",
    "                         'Profession', 'Sleep Duration', 'Dietary Habits', 'Degree', 'Financial Stress',\n",
    "                         'Have you ever had suicidal thoughts ?', 'Family History of Mental Illness']\n",
    "data[categorical_variables].describe()"
   ],
   "id": "4f0d3b5f7d52e66c",
   "outputs": [
    {
     "data": {
      "text/plain": [
       "        Gender    City Working Professional or Student  Study Satisfaction  \\\n",
       "count   140700  140700                          140700             27897.0   \n",
       "unique       2      98                               2                 5.0   \n",
       "top       Male  Kalyan            Working Professional                 4.0   \n",
       "freq     77464    6591                          112799              6360.0   \n",
       "\n",
       "        Job Satisfaction  Academic Pressure  Work Pressure  Depression  \\\n",
       "count           112790.0            27897.0       112782.0      140700   \n",
       "unique               5.0                5.0            5.0           2   \n",
       "top                  2.0                3.0            2.0           0   \n",
       "freq             24783.0             7463.0        24373.0      115133   \n",
       "\n",
       "       Profession     Sleep Duration Dietary Habits    Degree  \\\n",
       "count      104070             140700         140696    140698   \n",
       "unique         64                 36             23       115   \n",
       "top       Teacher  Less than 5 hours       Moderate  Class 12   \n",
       "freq        24906              38784          49705     14729   \n",
       "\n",
       "        Financial Stress Have you ever had suicidal thoughts ?  \\\n",
       "count           140696.0                                140700   \n",
       "unique               5.0                                     2   \n",
       "top                  2.0                                    No   \n",
       "freq             31451.0                                 71138   \n",
       "\n",
       "       Family History of Mental Illness  \n",
       "count                            140700  \n",
       "unique                                2  \n",
       "top                                  No  \n",
       "freq                              70758  "
      ],
      "text/html": [
       "<div>\n",
       "<style scoped>\n",
       "    .dataframe tbody tr th:only-of-type {\n",
       "        vertical-align: middle;\n",
       "    }\n",
       "\n",
       "    .dataframe tbody tr th {\n",
       "        vertical-align: top;\n",
       "    }\n",
       "\n",
       "    .dataframe thead th {\n",
       "        text-align: right;\n",
       "    }\n",
       "</style>\n",
       "<table border=\"1\" class=\"dataframe\">\n",
       "  <thead>\n",
       "    <tr style=\"text-align: right;\">\n",
       "      <th></th>\n",
       "      <th>Gender</th>\n",
       "      <th>City</th>\n",
       "      <th>Working Professional or Student</th>\n",
       "      <th>Study Satisfaction</th>\n",
       "      <th>Job Satisfaction</th>\n",
       "      <th>Academic Pressure</th>\n",
       "      <th>Work Pressure</th>\n",
       "      <th>Depression</th>\n",
       "      <th>Profession</th>\n",
       "      <th>Sleep Duration</th>\n",
       "      <th>Dietary Habits</th>\n",
       "      <th>Degree</th>\n",
       "      <th>Financial Stress</th>\n",
       "      <th>Have you ever had suicidal thoughts ?</th>\n",
       "      <th>Family History of Mental Illness</th>\n",
       "    </tr>\n",
       "  </thead>\n",
       "  <tbody>\n",
       "    <tr>\n",
       "      <th>count</th>\n",
       "      <td>140700</td>\n",
       "      <td>140700</td>\n",
       "      <td>140700</td>\n",
       "      <td>27897.0</td>\n",
       "      <td>112790.0</td>\n",
       "      <td>27897.0</td>\n",
       "      <td>112782.0</td>\n",
       "      <td>140700</td>\n",
       "      <td>104070</td>\n",
       "      <td>140700</td>\n",
       "      <td>140696</td>\n",
       "      <td>140698</td>\n",
       "      <td>140696.0</td>\n",
       "      <td>140700</td>\n",
       "      <td>140700</td>\n",
       "    </tr>\n",
       "    <tr>\n",
       "      <th>unique</th>\n",
       "      <td>2</td>\n",
       "      <td>98</td>\n",
       "      <td>2</td>\n",
       "      <td>5.0</td>\n",
       "      <td>5.0</td>\n",
       "      <td>5.0</td>\n",
       "      <td>5.0</td>\n",
       "      <td>2</td>\n",
       "      <td>64</td>\n",
       "      <td>36</td>\n",
       "      <td>23</td>\n",
       "      <td>115</td>\n",
       "      <td>5.0</td>\n",
       "      <td>2</td>\n",
       "      <td>2</td>\n",
       "    </tr>\n",
       "    <tr>\n",
       "      <th>top</th>\n",
       "      <td>Male</td>\n",
       "      <td>Kalyan</td>\n",
       "      <td>Working Professional</td>\n",
       "      <td>4.0</td>\n",
       "      <td>2.0</td>\n",
       "      <td>3.0</td>\n",
       "      <td>2.0</td>\n",
       "      <td>0</td>\n",
       "      <td>Teacher</td>\n",
       "      <td>Less than 5 hours</td>\n",
       "      <td>Moderate</td>\n",
       "      <td>Class 12</td>\n",
       "      <td>2.0</td>\n",
       "      <td>No</td>\n",
       "      <td>No</td>\n",
       "    </tr>\n",
       "    <tr>\n",
       "      <th>freq</th>\n",
       "      <td>77464</td>\n",
       "      <td>6591</td>\n",
       "      <td>112799</td>\n",
       "      <td>6360.0</td>\n",
       "      <td>24783.0</td>\n",
       "      <td>7463.0</td>\n",
       "      <td>24373.0</td>\n",
       "      <td>115133</td>\n",
       "      <td>24906</td>\n",
       "      <td>38784</td>\n",
       "      <td>49705</td>\n",
       "      <td>14729</td>\n",
       "      <td>31451.0</td>\n",
       "      <td>71138</td>\n",
       "      <td>70758</td>\n",
       "    </tr>\n",
       "  </tbody>\n",
       "</table>\n",
       "</div>"
      ]
     },
     "execution_count": 52,
     "metadata": {},
     "output_type": "execute_result"
    }
   ],
   "execution_count": 52
  },
  {
   "metadata": {},
   "cell_type": "markdown",
   "source": [
    "## Univariate Analysis\n",
    "### Numerical Columns"
   ],
   "id": "b9f2df691b1cb3c1"
  },
  {
   "metadata": {},
   "cell_type": "markdown",
   "source": "",
   "id": "279b301ac06716e7"
  },
  {
   "metadata": {},
   "cell_type": "markdown",
   "source": "## Handle Missing Values",
   "id": "15a44ac490d5a39c"
  },
  {
   "metadata": {
    "ExecuteTime": {
     "end_time": "2024-11-12T04:36:03.885168Z",
     "start_time": "2024-11-12T04:36:03.851714Z"
    }
   },
   "cell_type": "code",
   "source": "data.isnull().sum()",
   "id": "6c259b3a4c719ac4",
   "outputs": [
    {
     "data": {
      "text/plain": [
       "Gender                                        0\n",
       "Age                                           0\n",
       "City                                          0\n",
       "Working Professional or Student               0\n",
       "Profession                                36630\n",
       "Academic Pressure                        112803\n",
       "Work Pressure                             27918\n",
       "CGPA                                     112802\n",
       "Study Satisfaction                       112803\n",
       "Job Satisfaction                          27910\n",
       "Sleep Duration                                0\n",
       "Dietary Habits                                4\n",
       "Degree                                        2\n",
       "Have you ever had suicidal thoughts ?         0\n",
       "Work/Study Hours                              0\n",
       "Financial Stress                              4\n",
       "Family History of Mental Illness              0\n",
       "Depression                                    0\n",
       "dtype: int64"
      ]
     },
     "execution_count": 16,
     "metadata": {},
     "output_type": "execute_result"
    }
   ],
   "execution_count": 16
  },
  {
   "metadata": {},
   "cell_type": "markdown",
   "source": "To handle missing values in the dataset for the columns `Job Satisfaction` and `Study Satisfaction`, we’ll create a `Job/Study Satisfaction` column by merging these columns. Since each individual is either a student or a professional, only one of these columns will have a value for each user, while the other will be empty. By consolidating them into a single column, we simplify the dataset and eliminate these missing values, as Satisfaction will contain the relevant data for each user on a consistent 1 to 5 scale. The same will be done for the columns `Academic Pressure` and `Work Pressure` by creating a `Academic/Work Pressure` column combining these two columns. For handling missing values for `Profession` since there is a student profession in the `Profession` column I will make all students have the `Student` profession and for working professional I will make all working professionals have the `Working Professional` category. Since CGPA has around 80% of missing values and imputation of this value is unreliable as most this data is missing for working professionals and not students hence we will drop the feature.",
   "id": "778db1293b4a3e90"
  },
  {
   "metadata": {
    "ExecuteTime": {
     "end_time": "2024-11-12T05:04:16.137535Z",
     "start_time": "2024-11-12T05:04:16.118911Z"
    }
   },
   "cell_type": "code",
   "source": [
    "# Handling missing values for Job and Study satisfaction\n",
    "data['Job/Study Satisfaction'] = data['Study Satisfaction'].fillna(data['Job Satisfaction'])\n",
    "# Dropping the original satisfaction columns\n",
    "data.drop(['Study Satisfaction', 'Job Satisfaction'], axis=1, inplace=True)\n",
    "\n",
    "# Handling missing values for Academic and Work pressure\n",
    "data['Academic/Work Pressure'] = data['Academic Pressure'].fillna(data['Work Pressure'])\n",
    "# Dropping the original pressure columns\n",
    "data.drop(['Academic Pressure', 'Work Pressure'], axis=1, inplace=True)\n",
    "\n",
    "# Fill missing values for profession\n",
    "data.loc[(data['Working Professional or Student'] == 'Student') & (data['Profession'].isnull()), 'Profession'] = 'Student'\n",
    "data.loc[(data['Working Professional or Student'] == 'Working Professional') & (data['Profession'].isnull()), 'Profession'] = 'Working Professional'\n",
    "\n",
    "# Dropping CGPA feature\n",
    "data.drop(columns=['CGPA'], inplace=True)"
   ],
   "id": "ca4d8325ed5ae374",
   "outputs": [],
   "execution_count": 30
  },
  {
   "metadata": {},
   "cell_type": "markdown",
   "source": "#### Re-checking missing values",
   "id": "638e9903d979f3d4"
  },
  {
   "metadata": {
    "ExecuteTime": {
     "end_time": "2024-11-12T05:20:35.497215Z",
     "start_time": "2024-11-12T05:20:35.456689Z"
    }
   },
   "cell_type": "code",
   "source": "data.isnull().sum()",
   "id": "e3d969d4f05e916a",
   "outputs": [
    {
     "data": {
      "text/plain": [
       "Gender                                    0\n",
       "Age                                       0\n",
       "City                                      0\n",
       "Working Professional or Student           0\n",
       "Profession                                0\n",
       "Sleep Duration                            0\n",
       "Dietary Habits                            4\n",
       "Degree                                    2\n",
       "Have you ever had suicidal thoughts ?     0\n",
       "Work/Study Hours                          0\n",
       "Financial Stress                          4\n",
       "Family History of Mental Illness          0\n",
       "Depression                                0\n",
       "Job/Study Satisfaction                   15\n",
       "Academic/Work Pressure                   21\n",
       "dtype: int64"
      ]
     },
     "execution_count": 41,
     "metadata": {},
     "output_type": "execute_result"
    }
   ],
   "execution_count": 41
  },
  {
   "metadata": {},
   "cell_type": "markdown",
   "source": "Since the number of records with missing values is no longer significant I will drop those records",
   "id": "e277b5e50d57391f"
  },
  {
   "metadata": {
    "ExecuteTime": {
     "end_time": "2024-11-12T05:26:34.947612Z",
     "start_time": "2024-11-12T05:26:34.898589Z"
    }
   },
   "cell_type": "code",
   "source": [
    "data.dropna(inplace=True)\n",
    "# Printin the shape of the data after dropping records\n",
    "print(data.shape)"
   ],
   "id": "1acb414820e941ca",
   "outputs": [
    {
     "name": "stdout",
     "output_type": "stream",
     "text": [
      "(140661, 15)\n"
     ]
    }
   ],
   "execution_count": 43
  },
  {
   "metadata": {},
   "cell_type": "code",
   "outputs": [],
   "execution_count": null,
   "source": "",
   "id": "7a416283840a6fd"
  }
 ],
 "metadata": {
  "kernelspec": {
   "display_name": "Python 3",
   "language": "python",
   "name": "python3"
  },
  "language_info": {
   "codemirror_mode": {
    "name": "ipython",
    "version": 2
   },
   "file_extension": ".py",
   "mimetype": "text/x-python",
   "name": "python",
   "nbconvert_exporter": "python",
   "pygments_lexer": "ipython2",
   "version": "2.7.6"
  }
 },
 "nbformat": 4,
 "nbformat_minor": 5
}
