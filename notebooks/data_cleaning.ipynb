{
 "cells": [
  {
   "metadata": {},
   "cell_type": "markdown",
   "source": [
    "## Handling Missing Values\n",
    "- For features like `Academic Pressure`, `CGPA` and `Study Satisfaction` that only apply to Students we will use the value `-1` which is outside the range of observed values for these attributes to mean that they are not applicable for Working Professional. Where these values are missing and the record is for a student we will impute the value with the median.\n",
    "- Similar for Working Professionals related attributes we will use the same strategy.\n",
    "- For values, we replaced with `-1` we will also add a feature indicating wether the feature that we replaced is applicable or not for that particular record.\n",
    "- For `Dietary Habits` and `Degree` we will replace all missing values with the most frequent category  \n",
    "- `Financial Stress` missing values will be imputed by the median\n",
    "- For `Profession` since most of the missing values are for students we will use the `Student` profession to impute the value for all students and we will create a new category `Unknown` for the working professionals"
   ],
   "id": "39b6aa4943677380"
  }
 ],
 "metadata": {
  "kernelspec": {
   "display_name": "Python 3",
   "language": "python",
   "name": "python3"
  },
  "language_info": {
   "codemirror_mode": {
    "name": "ipython",
    "version": 2
   },
   "file_extension": ".py",
   "mimetype": "text/x-python",
   "name": "python",
   "nbconvert_exporter": "python",
   "pygments_lexer": "ipython2",
   "version": "2.7.6"
  }
 },
 "nbformat": 4,
 "nbformat_minor": 5
}
