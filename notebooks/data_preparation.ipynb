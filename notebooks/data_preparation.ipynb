{
 "cells": [
  {
   "metadata": {},
   "cell_type": "markdown",
   "source": "## Import Libraries",
   "id": "8db5dee00ce07076"
  },
  {
   "cell_type": "code",
   "id": "initial_id",
   "metadata": {
    "collapsed": true,
    "ExecuteTime": {
     "end_time": "2024-11-12T18:03:48.228906Z",
     "start_time": "2024-11-12T18:03:48.227223Z"
    }
   },
   "source": "import pandas as pd",
   "outputs": [],
   "execution_count": 1
  },
  {
   "metadata": {},
   "cell_type": "markdown",
   "source": "## Load the dataset",
   "id": "8866fb9f21f9bea6"
  },
  {
   "metadata": {},
   "cell_type": "code",
   "outputs": [],
   "execution_count": null,
   "source": [
    "# Load testing data\n",
    "test_data = pd.read_csv('https://raw.githubusercontent.com/ktxdev/mind-matters/refs/heads/master/data/raw/test.csv')\n",
    "# Load training data\n",
    "train_data = pd.read_csv('https://raw.githubusercontent.com/ktxdev/mind-matters/refs/heads/master/data/raw/train.csv')\n",
    "# Concatenating the two dataset\n",
    "data = pd.concat([test_data, train_data], ignore_index=True)"
   ],
   "id": "4fa1192ae6655650"
  },
  {
   "metadata": {},
   "cell_type": "markdown",
   "source": [
    "## Handling Missing Values\n",
    "To handle missing values in the dataset for the columns `Job Satisfaction` and `Study Satisfaction`, we’ll create a `Job/Study Satisfaction` column by merging these columns. Since each individual is either a student or a professional, only one of these columns will have a value for each user, while the other will be empty. By consolidating them into a single column, we simplify the dataset and eliminate these missing values, as Satisfaction will contain the relevant data for each user on a consistent 1 to 5 scale. The same will be done for the columns `Academic Pressure` and `Work Pressure` by creating a `Academic/Work Pressure` column combining these two columns. For handling missing values for `Profession` since there is a student profession in the `Profession` column I will make all students have the `Student` profession and for working professional I will make all working professionals have the `Working Professional` category. Since CGPA has around 80% of missing values and imputation of this value is unreliable as most this data is missing for working professionals and not students hence we will drop the feature."
   ],
   "id": "5e3062dc47704cfe"
  },
  {
   "metadata": {},
   "cell_type": "code",
   "outputs": [],
   "execution_count": null,
   "source": [
    "# Handling missing values for Job and Study satisfaction\n",
    "data['Job/Study Satisfaction'] = data['Study Satisfaction'].fillna(data['Job Satisfaction'])\n",
    "# Dropping the original satisfaction columns\n",
    "data.drop(['Study Satisfaction', 'Job Satisfaction'], axis=1, inplace=True)\n",
    "\n",
    "# Handling missing values for Academic and Work pressure\n",
    "data['Academic/Work Pressure'] = data['Academic Pressure'].fillna(data['Work Pressure'])\n",
    "# Dropping the original pressure columns\n",
    "data.drop(['Academic Pressure', 'Work Pressure'], axis=1, inplace=True)\n",
    "\n",
    "# Fill missing values for profession\n",
    "data.loc[(data['Working Professional or Student'] == 'Student') & (data['Profession'].isnull()), 'Profession'] = 'Student'\n",
    "data.loc[(data['Working Professional or Student'] == 'Working Professional') & (data['Profession'].isnull()), 'Profession'] = 'Working Professional'\n",
    "\n",
    "# Dropping CGPA feature\n",
    "data.drop(columns=['CGPA'], inplace=True)"
   ],
   "id": "6a67845d112d54"
  },
  {
   "metadata": {},
   "cell_type": "markdown",
   "source": "#### Re-checking Missing Values",
   "id": "e3b2566788b1fd86"
  },
  {
   "metadata": {
    "ExecuteTime": {
     "end_time": "2024-11-12T18:07:24.551767Z",
     "start_time": "2024-11-12T18:07:24.391258Z"
    }
   },
   "cell_type": "code",
   "source": "data.isnull().sum()",
   "id": "2adf673ee0f46f37",
   "outputs": [
    {
     "ename": "NameError",
     "evalue": "name 'data' is not defined",
     "output_type": "error",
     "traceback": [
      "\u001B[0;31m---------------------------------------------------------------------------\u001B[0m",
      "\u001B[0;31mNameError\u001B[0m                                 Traceback (most recent call last)",
      "Cell \u001B[0;32mIn[2], line 1\u001B[0m\n\u001B[0;32m----> 1\u001B[0m \u001B[43mdata\u001B[49m\u001B[38;5;241m.\u001B[39misnull()\u001B[38;5;241m.\u001B[39msum()\n",
      "\u001B[0;31mNameError\u001B[0m: name 'data' is not defined"
     ]
    }
   ],
   "execution_count": 2
  },
  {
   "metadata": {},
   "cell_type": "markdown",
   "source": "Since the number of records with missing values is no longer significant I will drop those records",
   "id": "35458047008ee6c8"
  },
  {
   "metadata": {},
   "cell_type": "code",
   "outputs": [],
   "execution_count": null,
   "source": [
    "cleaned_data = data.drop(columns=['Depression']).dropna()\n",
    "# Printin the shape of the data after dropping records\n",
    "print(cleaned_data.shape)"
   ],
   "id": "91819e6ebcdbd079"
  }
 ],
 "metadata": {
  "kernelspec": {
   "display_name": "Python 3",
   "language": "python",
   "name": "python3"
  },
  "language_info": {
   "codemirror_mode": {
    "name": "ipython",
    "version": 2
   },
   "file_extension": ".py",
   "mimetype": "text/x-python",
   "name": "python",
   "nbconvert_exporter": "python",
   "pygments_lexer": "ipython2",
   "version": "2.7.6"
  }
 },
 "nbformat": 4,
 "nbformat_minor": 5
}
